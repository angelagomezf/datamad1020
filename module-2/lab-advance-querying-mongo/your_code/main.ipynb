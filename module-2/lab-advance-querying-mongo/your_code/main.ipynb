{
 "cells": [
  {
   "cell_type": "markdown",
   "metadata": {},
   "source": [
    "# Advanced Querying Mongo"
   ]
  },
  {
   "cell_type": "markdown",
   "metadata": {},
   "source": [
    "Importing libraries and setting up connection"
   ]
  },
  {
   "cell_type": "code",
   "execution_count": 2,
   "metadata": {},
   "outputs": [],
   "source": [
    "from pymongo import MongoClient\n",
    "client = MongoClient()"
   ]
  },
  {
   "cell_type": "code",
   "execution_count": 3,
   "metadata": {},
   "outputs": [
    {
     "data": {
      "text/plain": [
       "MongoClient(host=['localhost:27017'], document_class=dict, tz_aware=False, connect=True)"
      ]
     },
     "execution_count": 3,
     "metadata": {},
     "output_type": "execute_result"
    }
   ],
   "source": [
    "client"
   ]
  },
  {
   "cell_type": "code",
   "execution_count": 4,
   "metadata": {},
   "outputs": [],
   "source": [
    "db = client.get_database(\"companies\")"
   ]
  },
  {
   "cell_type": "code",
   "execution_count": 5,
   "metadata": {},
   "outputs": [
    {
     "data": {
      "text/plain": [
       "Database(MongoClient(host=['localhost:27017'], document_class=dict, tz_aware=False, connect=True), 'companies')"
      ]
     },
     "execution_count": 5,
     "metadata": {},
     "output_type": "execute_result"
    }
   ],
   "source": [
    "db"
   ]
  },
  {
   "cell_type": "markdown",
   "metadata": {},
   "source": [
    "### 1. All the companies whose name match 'Babelgum'. Retrieve only their `name` field."
   ]
  },
  {
   "cell_type": "code",
   "execution_count": 5,
   "metadata": {},
   "outputs": [
    {
     "data": {
      "text/plain": [
       "1"
      ]
     },
     "execution_count": 5,
     "metadata": {},
     "output_type": "execute_result"
    }
   ],
   "source": [
    "# Your Code\n",
    "len(list(db.companies.find({\"name\":\"Babelgum\"})))"
   ]
  },
  {
   "cell_type": "code",
   "execution_count": 7,
   "metadata": {},
   "outputs": [
    {
     "data": {
      "text/plain": [
       "'Babelgum'"
      ]
     },
     "execution_count": 7,
     "metadata": {},
     "output_type": "execute_result"
    }
   ],
   "source": [
    "babelgum = db.companies.find({\"name\":\"Babelgum\"})\n",
    "babelgum[0][\"name\"]"
   ]
  },
  {
   "cell_type": "markdown",
   "metadata": {},
   "source": [
    "### 2. All the companies that have more than 5000 employees. Limit the search to 20 companies and sort them by **number of employees**."
   ]
  },
  {
   "cell_type": "code",
   "execution_count": 13,
   "metadata": {},
   "outputs": [
    {
     "data": {
      "text/plain": [
       "109"
      ]
     },
     "execution_count": 13,
     "metadata": {},
     "output_type": "execute_result"
    }
   ],
   "source": [
    "len(list(db.companies.find({\"number_of_employees\":{\"$gt\":5000}})))"
   ]
  },
  {
   "cell_type": "code",
   "execution_count": 26,
   "metadata": {},
   "outputs": [],
   "source": [
    "# Your Code\n",
    "filter_c = {\"number_of_employees\":{\"$gt\":5000}}\n",
    "\n",
    "big_comp = db.companies.find(filter_c).sort([(\"number_of_employees\",-1)])\n",
    "top_20 = big_comp.limit(20)\n",
    "#print(list(top_20))"
   ]
  },
  {
   "cell_type": "markdown",
   "metadata": {},
   "source": [
    "### 3. All the companies founded between 2000 and 2005, both years included. Retrieve only the `name` and `founded_year` fields."
   ]
  },
  {
   "cell_type": "code",
   "execution_count": 32,
   "metadata": {},
   "outputs": [
    {
     "data": {
      "text/plain": [
       "[{'_id': ObjectId('52cdef7c4bab8bd675297d8c'),\n",
       "  'name': 'Zoho',\n",
       "  'founded_year': 2005},\n",
       " {'_id': ObjectId('52cdef7c4bab8bd675297d8f'),\n",
       "  'name': 'Omnidrive',\n",
       "  'founded_year': 2005},\n",
       " {'_id': ObjectId('52cdef7c4bab8bd675297d8a'),\n",
       "  'name': 'Wetpaint',\n",
       "  'founded_year': 2005},\n",
       " {'_id': ObjectId('52cdef7c4bab8bd675297d96'),\n",
       "  'name': 'Gizmoz',\n",
       "  'founded_year': 2003},\n",
       " {'_id': ObjectId('52cdef7c4bab8bd675297d9a'),\n",
       "  'name': 'Helio',\n",
       "  'founded_year': 2005}]"
      ]
     },
     "execution_count": 32,
     "metadata": {},
     "output_type": "execute_result"
    }
   ],
   "source": [
    "# Your Code\n",
    "filter_f = {\"founded_year\":{\"$gte\":2000, \"$lte\":2005}}\n",
    "project = {\"name\":1,\"founded_year\":1}\n",
    "\n",
    "founded = list(db.companies.find(filter_f,project))\n",
    "founded[:5]"
   ]
  },
  {
   "cell_type": "markdown",
   "metadata": {},
   "source": [
    "### 4. All the companies that had a Valuation Amount of more than 100.000.000 and have been founded before 2010. Retrieve only the `name` and `ipo` fields."
   ]
  },
  {
   "cell_type": "code",
   "execution_count": 35,
   "metadata": {},
   "outputs": [
    {
     "data": {
      "text/plain": [
       "['relationships',\n",
       " 'deadpooled_year',\n",
       " 'phone_number',\n",
       " 'investments',\n",
       " 'number_of_employees',\n",
       " 'partners',\n",
       " 'homepage_url',\n",
       " 'permalink',\n",
       " 'external_links',\n",
       " 'image',\n",
       " 'deadpooled_url',\n",
       " 'offices',\n",
       " 'founded_month',\n",
       " 'description',\n",
       " 'blog_url',\n",
       " 'created_at',\n",
       " 'blog_feed_url',\n",
       " 'funding_rounds',\n",
       " 'founded_day',\n",
       " 'competitions',\n",
       " 'acquisition',\n",
       " 'milestones',\n",
       " 'name',\n",
       " 'email_address',\n",
       " 'deadpooled_month',\n",
       " 'screenshots',\n",
       " 'updated_at',\n",
       " '_id',\n",
       " 'deadpooled_day',\n",
       " 'ipo',\n",
       " 'alias_list',\n",
       " 'crunchbase_url',\n",
       " 'providerships',\n",
       " 'total_money_raised',\n",
       " 'video_embeds',\n",
       " 'founded_year',\n",
       " 'overview',\n",
       " 'twitter_username',\n",
       " 'products',\n",
       " 'acquisitions',\n",
       " 'tag_list',\n",
       " 'category_code']"
      ]
     },
     "execution_count": 35,
     "metadata": {},
     "output_type": "execute_result"
    }
   ],
   "source": [
    "all_doc = list(db.companies.find({}))\n",
    "keys = list(map(lambda x: x.keys(),all_doc))\n",
    "list(set([k for lst in keys for k in lst]))[:]"
   ]
  },
  {
   "cell_type": "code",
   "execution_count": 69,
   "metadata": {},
   "outputs": [
    {
     "name": "stdout",
     "output_type": "stream",
     "text": [
      "42\n"
     ]
    }
   ],
   "source": [
    "# Your Code\n",
    "filter_va = {\"ipo.valuation_amount\":{\"$gte\":100000000}, \"founded_year\":{\"$lt\":2010}}\n",
    "project = {\"name\":1,\"ipo.valuation_amount\":1}\n",
    "\n",
    "valuation_amount = list(db.companies.find(filter_va,project))\n",
    "print(len(valuation_amount))"
   ]
  },
  {
   "cell_type": "markdown",
   "metadata": {},
   "source": [
    "### 5. All the companies that have less than 1000 employees and have been founded before 2005. Order them by the number of employees and limit the search to 10 companies."
   ]
  },
  {
   "cell_type": "code",
   "execution_count": 42,
   "metadata": {},
   "outputs": [],
   "source": [
    "# Your Code\n",
    "filter_e = {\"number_of_employees\":{\"$lt\":1000}, \"founded_year\":{\"$lte\":2005}}\n",
    "\n",
    "small_comp = db.companies.find(filter_e).sort([(\"number_of_employees\",-1)])\n",
    "top_10 = small_comp.limit(10)\n",
    "#print(list(top_10))"
   ]
  },
  {
   "cell_type": "markdown",
   "metadata": {},
   "source": [
    "### 6. All the companies that don't include the `partners` field."
   ]
  },
  {
   "cell_type": "code",
   "execution_count": 76,
   "metadata": {},
   "outputs": [
    {
     "name": "stdout",
     "output_type": "stream",
     "text": [
      "0\n"
     ]
    }
   ],
   "source": [
    "# Your Code\n",
    "project = {\"partners\":0}\n",
    "\n",
    "not_partners = list(db.companies.find(project))\n",
    "print(len(not_partners))"
   ]
  },
  {
   "cell_type": "markdown",
   "metadata": {},
   "source": [
    "### 7. All the companies that have a null type of value on the `category_code` field."
   ]
  },
  {
   "cell_type": "code",
   "execution_count": 74,
   "metadata": {},
   "outputs": [
    {
     "name": "stdout",
     "output_type": "stream",
     "text": [
      "2751\n"
     ]
    }
   ],
   "source": [
    "# Your Code\n",
    "filter_cat = {\"category_code\":None}\n",
    "\n",
    "cat = list(db.companies.find(filter_cat))\n",
    "print(len(cat))"
   ]
  },
  {
   "cell_type": "markdown",
   "metadata": {},
   "source": [
    "### 8. All the companies that have at least 100 employees but less than 1000. Retrieve only the `name` and `number of employees` fields."
   ]
  },
  {
   "cell_type": "code",
   "execution_count": 89,
   "metadata": {},
   "outputs": [
    {
     "name": "stdout",
     "output_type": "stream",
     "text": [
      "942\n"
     ]
    }
   ],
   "source": [
    "# Your Code\n",
    "filter_m = {\"number_of_employees\":{\"$gte\":100, \"$lte\":1000}}\n",
    "project = {\"name\":1,\"number_of_employees\":1}\n",
    "\n",
    "medium_comp = list(db.companies.find(filter_m,project))\n",
    "print(len(medium_comp))"
   ]
  },
  {
   "cell_type": "markdown",
   "metadata": {},
   "source": [
    "### 9. Order all the companies by their IPO price in a descending order."
   ]
  },
  {
   "cell_type": "code",
   "execution_count": 72,
   "metadata": {},
   "outputs": [
    {
     "name": "stdout",
     "output_type": "stream",
     "text": [
      "61\n"
     ]
    }
   ],
   "source": [
    "# Your Code\n",
    "filter_i = {\"ipo.valuation_amount\":{\"$ne\":None}}\n",
    "\n",
    "ipo = list(db.companies.find(filter_i).sort([(\"number_of_employees\",-1)]))\n",
    "print(len(ipo))"
   ]
  },
  {
   "cell_type": "markdown",
   "metadata": {},
   "source": [
    "### 10. Retrieve the 10 companies with more employees, order by the `number of employees`"
   ]
  },
  {
   "cell_type": "code",
   "execution_count": 70,
   "metadata": {},
   "outputs": [
    {
     "name": "stdout",
     "output_type": "stream",
     "text": [
      "Siemens 405000\n",
      "IBM 388000\n",
      "Toyota 320000\n",
      "PayPal 300000\n",
      "Nippon Telegraph and Telephone Corporation 227000\n",
      "Samsung Electronics 221726\n",
      "Accenture 205000\n",
      "Tata Consultancy Services 200300\n",
      "Flextronics International 200000\n",
      "Safeway 186000\n"
     ]
    }
   ],
   "source": [
    "# Your Code\n",
    "sort_n = [(\"number_of_employees\",-1)]\n",
    "ten_comp = list(db.companies.find({}).sort(sort_n).limit(10))\n",
    "\n",
    "for i in ten_comp:\n",
    "    print(i[\"name\"],i[\"number_of_employees\"])"
   ]
  },
  {
   "cell_type": "markdown",
   "metadata": {},
   "source": [
    "### 11. All the companies founded on the second semester of the year. Limit your search to 1000 companies."
   ]
  },
  {
   "cell_type": "code",
   "execution_count": 65,
   "metadata": {},
   "outputs": [],
   "source": [
    "# Your Code\n",
    "filter_m = {\"$or\":[{\"founded_month\":{\"$gte\":6}},{\"founded_month\":{\"$lte\":12}}]}\n",
    "\n",
    "second_sem = db.companies.find(filter_m)\n",
    "top_1000 = second_sem.limit(100) #he cambiado el limite a 100 porque con 1000 me ha saltado un mensaje de que iba a petar la RAM\n",
    "#print(list(top_1000))"
   ]
  },
  {
   "cell_type": "markdown",
   "metadata": {},
   "source": [
    "### 12. All the companies founded before 2000 that have an acquisition amount of more than 10.000.00"
   ]
  },
  {
   "cell_type": "code",
   "execution_count": 81,
   "metadata": {},
   "outputs": [
    {
     "name": "stdout",
     "output_type": "stream",
     "text": [
      "270\n"
     ]
    }
   ],
   "source": [
    "# Your Code\n",
    "filter_f = {\"founded_year\":{\"$lte\":2000},\"acquisition.price_amount\":{\"$gt\":100000}}\n",
    "\n",
    "all_comp = list(db.companies.find(filter_f))\n",
    "print(len(all_comp))"
   ]
  },
  {
   "cell_type": "markdown",
   "metadata": {},
   "source": [
    "### 13. All the companies that have been acquired after 2010, order by the acquisition amount, and retrieve only their `name` and `acquisition` field."
   ]
  },
  {
   "cell_type": "code",
   "execution_count": 82,
   "metadata": {},
   "outputs": [
    {
     "name": "stdout",
     "output_type": "stream",
     "text": [
      "736\n"
     ]
    }
   ],
   "source": [
    "# Your Code\n",
    "filter_a = {\"acquisition.acquired_year\":{\"$gt\":2010}}\n",
    "project = {\"name\":1,\"acquisition\":1}\n",
    "sort = [(\"acquisition.price_amount\",1)]\n",
    "\n",
    "acquired_comp = list(db.companies.find(filter_a,project).sort(sort))\n",
    "print(len(acquired_comp))"
   ]
  },
  {
   "cell_type": "markdown",
   "metadata": {},
   "source": [
    "### 14. Order the companies by their `founded year`, retrieving only their `name` and `founded year`."
   ]
  },
  {
   "cell_type": "code",
   "execution_count": 6,
   "metadata": {},
   "outputs": [
    {
     "name": "stdout",
     "output_type": "stream",
     "text": [
      "US Army 1800\n",
      "Alstrasoft 1800\n",
      "SmallWorlds 1800\n",
      "DuPont 1802\n",
      "Bachmann Industries 1833\n",
      "McKesson 1833\n",
      "Bertelsmann 1835\n",
      "Accuity 1836\n",
      "CENTRA 1839\n",
      "WeGame 1840\n"
     ]
    }
   ],
   "source": [
    "# Your Code\n",
    "filter_o = {\"founded_year\":{\"$ne\":None}}\n",
    "project = {\"name\":1,\"founded_year\":1}\n",
    "sort = [(\"founded_year\",1)]\n",
    "\n",
    "order_comp = db.companies.find(filter_o,project).sort(sort)\n",
    "top_comp = order_comp.limit(10) #he tenido que poner limite por la RAM\n",
    "\n",
    "for i in top_comp:\n",
    "    print(i[\"name\"],i[\"founded_year\"])"
   ]
  },
  {
   "cell_type": "markdown",
   "metadata": {},
   "source": [
    "### 15. All the companies that have been founded on the first seven days of the month, including the seventh. Sort them by their `acquisition price` in a descending order. Limit the search to 10 documents."
   ]
  },
  {
   "cell_type": "code",
   "execution_count": 8,
   "metadata": {},
   "outputs": [
    {
     "name": "stdout",
     "output_type": "stream",
     "text": [
      "Netscape 4 4200000000\n",
      "PayPal 1 1500000000\n",
      "Zappos 1 1200000000\n",
      "Alibaba 1 1000000000\n",
      "Postini 2 625000000\n",
      "Danger 1 500000000\n",
      "Clearwell Systems 6 410000000\n",
      "PrimeSense 1 345000000\n",
      "Amobee 1 321000000\n",
      "Vitrue 1 300000000\n"
     ]
    }
   ],
   "source": [
    "# Your Code\n",
    "filter_a = {\"founded_day\":{\"$lte\":7}}\n",
    "sort = [(\"acquisition.price_amount\",-1)]\n",
    "\n",
    "first_seven = list(db.companies.find(filter_a).sort(sort).limit(10))\n",
    "\n",
    "for i in first_seven:\n",
    "    print(i[\"name\"],i[\"founded_day\"],i[\"acquisition\"][\"price_amount\"])"
   ]
  },
  {
   "cell_type": "markdown",
   "metadata": {},
   "source": [
    "### 16. All the companies on the 'web' `category` that have more than 4000 employees. Sort them by the amount of employees in ascending order."
   ]
  },
  {
   "cell_type": "code",
   "execution_count": 9,
   "metadata": {},
   "outputs": [
    {
     "name": "stdout",
     "output_type": "stream",
     "text": [
      "Expedia 4400 web\n",
      "AOL 8000 web\n",
      "Webkinz 8657 web\n",
      "Rakuten 10000 web\n",
      "Los Angeles Times Media Group 10000 web\n",
      "Groupon 10000 web\n",
      "Yahoo! 13600 web\n",
      "eBay 15000 web\n",
      "Experian 15500 web\n"
     ]
    }
   ],
   "source": [
    "# Your Code\n",
    "filter_c = {\"number_of_employees\":{\"$gt\":4000}, \"category_code\":\"web\"}\n",
    "sort = [(\"number_of_employees\",1)]\n",
    "\n",
    "cat_comp = list(db.companies.find(filter_c).sort(sort).limit(10))\n",
    "\n",
    "for i in cat_comp:\n",
    "    print(i[\"name\"],i[\"number_of_employees\"],i[\"category_code\"])"
   ]
  },
  {
   "cell_type": "markdown",
   "metadata": {},
   "source": [
    "### 17. All the companies whose acquisition amount is more than 10.000.000, and currency is 'EUR'."
   ]
  },
  {
   "cell_type": "code",
   "execution_count": 10,
   "metadata": {},
   "outputs": [
    {
     "name": "stdout",
     "output_type": "stream",
     "text": [
      "ZYB 31500000 EUR\n",
      "Apertio 140000000 EUR\n",
      "Greenfield Online 40000000 EUR\n",
      "Webedia 70000000 EUR\n",
      "Wayfinder 24000000 EUR\n",
      "Tuenti Technologies 70000000 EUR\n",
      "BioMed Central 43400000 EUR\n"
     ]
    }
   ],
   "source": [
    "# Your Code\n",
    "filter_e = {\"acquisition.price_amount\":{\"$gt\":10000000},\n",
    "            \"acquisition.price_currency_code\":\"EUR\"}\n",
    "\n",
    "curr = list(db.companies.find(filter_e))\n",
    "\n",
    "for i in curr:\n",
    "    print(i[\"name\"],i[\"acquisition\"][\"price_amount\"],i[\"acquisition\"][\"price_currency_code\"])"
   ]
  },
  {
   "cell_type": "markdown",
   "metadata": {},
   "source": [
    "### 18. All the companies that have been acquired on the first trimester of the year. Limit the search to 10 companies, and retrieve only their `name` and `acquisition` fields."
   ]
  },
  {
   "cell_type": "code",
   "execution_count": 11,
   "metadata": {},
   "outputs": [
    {
     "name": "stdout",
     "output_type": "stream",
     "text": [
      "Kyte 1\n",
      "NetRatings 2\n",
      "Livestream 1\n",
      "blogTV 3\n",
      "iContact 2\n",
      "Coghead 2\n",
      "Dailymotion 2\n",
      "Netvibes 2\n",
      "Flickr 3\n",
      "BabyCenter 3\n"
     ]
    }
   ],
   "source": [
    "# Your Code\n",
    "filter_t = {\"acquisition.acquired_month\":{\"$lte\":3}}\n",
    "project = {\"name\":1,\"acquisition\":1,\"_id\":0}\n",
    "\n",
    "third_sem = list(db.companies.find(filter_t,project).limit(10))\n",
    "\n",
    "for i in third_sem:\n",
    "    print(i[\"name\"],i[\"acquisition\"][\"acquired_month\"])"
   ]
  },
  {
   "cell_type": "markdown",
   "metadata": {},
   "source": [
    "# Bonus\n",
    "### 19. All the companies that have been founded between 2000 and 2010, but have not been acquired before 2011."
   ]
  },
  {
   "cell_type": "code",
   "execution_count": null,
   "metadata": {},
   "outputs": [],
   "source": [
    "# Your Code"
   ]
  },
  {
   "cell_type": "markdown",
   "metadata": {},
   "source": [
    "### 20. All the companies that have been 'deadpooled' after the third year."
   ]
  },
  {
   "cell_type": "code",
   "execution_count": null,
   "metadata": {},
   "outputs": [],
   "source": [
    "# Your Code"
   ]
  }
 ],
 "metadata": {
  "kernelspec": {
   "display_name": "Python 3",
   "language": "python",
   "name": "python3"
  },
  "language_info": {
   "codemirror_mode": {
    "name": "ipython",
    "version": 3
   },
   "file_extension": ".py",
   "mimetype": "text/x-python",
   "name": "python",
   "nbconvert_exporter": "python",
   "pygments_lexer": "ipython3",
   "version": "3.8.5"
  }
 },
 "nbformat": 4,
 "nbformat_minor": 2
}
